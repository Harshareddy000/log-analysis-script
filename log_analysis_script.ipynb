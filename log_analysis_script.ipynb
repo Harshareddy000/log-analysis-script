{
 "cells": [
  {
   "cell_type": "code",
   "execution_count": 9,
   "id": "188ffb1d-4888-4250-ad7a-e423dcc8dd29",
   "metadata": {},
   "outputs": [
    {
     "name": "stdout",
     "output_type": "stream",
     "text": [
      "Results have been saved to log_analysis_results.csv.\n"
     ]
    }
   ],
   "source": [
    "import re\n",
    "import csv\n",
    "from collections import defaultdict\n",
    "\n",
    "def count_requests_per_ip(log_file):# Function to parse the log file and count requests per IP\n",
    "    ipCounts = defaultdict(int)\n",
    "    with open(log_file, 'r') as file:\n",
    "        for line in file:\n",
    "            ip = re.search(r'\\b(?:[0-9]{1,3}\\.){3}[0-9]{1,3}\\b', line)\n",
    "            if ip:\n",
    "                ipCounts[ip.group()] += 1\n",
    "    return sorted(ipCounts.items(), key=lambda x: x[1], reverse=True)\n",
    "\n",
    "def most_accessed_endpoint(log_file): # Function to identify the most frequently accessed endpoint\n",
    "    endpointCounts = defaultdict(int)\n",
    "    with open(log_file, 'r') as file:\n",
    "        for line in file:\n",
    "            endpoint = re.search(r'\\\"(?:GET|POST) (\\/[^\\s]*)', line)\n",
    "            if endpoint:\n",
    "                endpointCounts[endpoint.group(1)] += 1\n",
    "    mostAccessed = max(endpointCounts.items(), key=lambda x: x[1])\n",
    "    return most_accessed\n",
    "\n",
    "def detect_suspicious_activity(log_file, threshold=10): # Function to detect suspicious activity\n",
    "    failedAttempts = defaultdict(int)\n",
    "    with open(log_file, 'r') as file:\n",
    "        for line in file:\n",
    "            if \"401\" in line or \"Invalid credentials\" in line:\n",
    "                ip = re.search(r'\\b(?:[0-9]{1,3}\\.){3}[0-9]{1,3}\\b', line)\n",
    "                if ip:\n",
    "                    failedAttempts[ip.group()] += 1\n",
    "    return [(ip, count) for ip, count in failedAttempts.items() if count > threshold]\n",
    "\n",
    "def save_to_csv(ipRequests, mostAccessed, suspiciousActivities, outputFile='log_analysis_re.csv'): # Function to save results to CSV\n",
    "    with open(outputFile, 'w', newline='') as csvfile:\n",
    "        writer = csv.writer(csvfile)\n",
    "        \n",
    "        writer.writerow([\"Requests per IP\"])\n",
    "        writer.writerow([\"IP Address\", \"Request Count\"])\n",
    "        writer.writerows(ipRequests)\n",
    "        \n",
    "        writer.writerow([])\n",
    "        writer.writerow([\"Most Accessed Endpoint\"])\n",
    "        writer.writerow([\"Endpoint\", \"Access Count\"])\n",
    "        writer.writerow(mostAccessed)\n",
    "        \n",
    "        writer.writerow([])\n",
    "        writer.writerow([\"Suspicious Activity\"])\n",
    "        writer.writerow([\"IP Address\", \"Failed Login Count\"])\n",
    "        writer.writerows(suspiciousActivities)\n",
    "\n",
    "# Main execution\n",
    "if __name__ == '__main__':\n",
    "    log_file = 'sample.log'\n",
    "\n",
    "\n",
    "    \n",
    "    ipAequests = count_requests_per_ip(log_file)\n",
    "    mostAccessed = most_accessed_endpoint(log_file)\n",
    "    suspiciousActivities = detect_suspicious_activity(log_file)\n",
    "    \n",
    "    save_to_csv(ipRequests, mostAccessed, suspiciousActivities)\n",
    "    \n",
    "    print(\"Results have been saved to log_analysis_results.csv.\")\n"
   ]
  },
  {
   "cell_type": "code",
   "execution_count": null,
   "id": "3a53dd2c-9880-40b1-a404-79cb3ea1c90b",
   "metadata": {},
   "outputs": [],
   "source": []
  }
 ],
 "metadata": {
  "kernelspec": {
   "display_name": "Python 3 (ipykernel)",
   "language": "python",
   "name": "python3"
  },
  "language_info": {
   "codemirror_mode": {
    "name": "ipython",
    "version": 3
   },
   "file_extension": ".py",
   "mimetype": "text/x-python",
   "name": "python",
   "nbconvert_exporter": "python",
   "pygments_lexer": "ipython3",
   "version": "3.11.9"
  }
 },
 "nbformat": 4,
 "nbformat_minor": 5
}
